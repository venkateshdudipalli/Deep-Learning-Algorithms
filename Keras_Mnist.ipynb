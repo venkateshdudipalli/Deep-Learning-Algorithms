{
  "nbformat": 4,
  "nbformat_minor": 0,
  "metadata": {
    "colab": {
      "name": "Keras_Mnist.ipynb",
      "version": "0.3.2",
      "provenance": [],
      "collapsed_sections": []
    },
    "kernelspec": {
      "name": "python3",
      "display_name": "Python 3"
    }
  },
  "cells": [
    {
      "cell_type": "markdown",
      "metadata": {
        "id": "6_gBv4ZGA02W",
        "colab_type": "text"
      },
      "source": [
        "# Keras -- MLPs on MNIST"
      ]
    },
    {
      "cell_type": "code",
      "metadata": {
        "id": "sqZRr14hA8Cx",
        "colab_type": "code",
        "outputId": "e4558a2c-45a5-4a2b-f778-6b45c5de3159",
        "colab": {
          "base_uri": "https://localhost:8080/",
          "height": 34
        }
      },
      "source": [
        "# if you keras is not using tensorflow as backend set \"KERAS_BACKEND=tensorflow\" use this command\n",
        "from keras.utils import np_utils \n",
        "from keras.datasets import mnist \n",
        "import seaborn as sns\n",
        "from keras.initializers import RandomNormal\n",
        "%matplotlib notebook\n",
        "%matplotlib inline\n",
        "import matplotlib.pyplot as plt\n",
        "import numpy as np\n",
        "import time\n"
      ],
      "execution_count": 0,
      "outputs": [
        {
          "output_type": "stream",
          "text": [
            "Using TensorFlow backend.\n"
          ],
          "name": "stderr"
        }
      ]
    },
    {
      "cell_type": "code",
      "metadata": {
        "id": "G3YwgbouBN_k",
        "colab_type": "code",
        "colab": {}
      },
      "source": [
        "def plt_dynamic(x, vy, ty, ax, colors=['b']):\n",
        "    ax.plot(x, vy, 'b', label=\"Validation Loss\")\n",
        "    ax.plot(x, ty, 'r', label=\"Train Loss\")\n",
        "    plt.legend()\n",
        "    plt.grid()\n",
        "    plt.show()\n"
      ],
      "execution_count": 0,
      "outputs": []
    },
    {
      "cell_type": "code",
      "metadata": {
        "id": "yUbU5KKKBQjN",
        "colab_type": "code",
        "outputId": "2f4365be-f9da-4e68-f090-0ea3d0000b85",
        "colab": {
          "base_uri": "https://localhost:8080/",
          "height": 50
        }
      },
      "source": [
        "# the data, shuffled and split between train and test sets \n",
        "(X_train, y_train), (X_test, y_test) = mnist.load_data()"
      ],
      "execution_count": 0,
      "outputs": [
        {
          "output_type": "stream",
          "text": [
            "Downloading data from https://s3.amazonaws.com/img-datasets/mnist.npz\n",
            "11493376/11490434 [==============================] - 1s 0us/step\n"
          ],
          "name": "stdout"
        }
      ]
    },
    {
      "cell_type": "code",
      "metadata": {
        "id": "rbiQ_s6UBaEG",
        "colab_type": "code",
        "outputId": "0d1d66e1-2849-4239-fe73-b84eb5c5f74b",
        "colab": {
          "base_uri": "https://localhost:8080/",
          "height": 50
        }
      },
      "source": [
        "print(\"Number of training examples :\", X_train.shape[0], \"and each image is of shape (%d, %d)\"%(X_train.shape[1], X_train.shape[2]))\n",
        "print(\"Number of training examples :\", X_test.shape[0], \"and each image is of shape (%d, %d)\"%(X_test.shape[1], X_test.shape[2]))"
      ],
      "execution_count": 0,
      "outputs": [
        {
          "output_type": "stream",
          "text": [
            "Number of training examples : 60000 and each image is of shape (28, 28)\n",
            "Number of training examples : 10000 and each image is of shape (28, 28)\n"
          ],
          "name": "stdout"
        }
      ]
    },
    {
      "cell_type": "code",
      "metadata": {
        "id": "5Ql_uqHaBfVw",
        "colab_type": "code",
        "colab": {}
      },
      "source": [
        "# if you observe the input shape its 3 dimensional vector\n",
        "# for each image we have a (28*28) vector\n",
        "# we will convert the (28*28) vector into single dimensional vector of 1 * 784 \n",
        "\n",
        "X_train = X_train.reshape(X_train.shape[0], X_train.shape[1]*X_train.shape[2]) \n",
        "X_test = X_test.reshape(X_test.shape[0], X_test.shape[1]*X_test.shape[2]) "
      ],
      "execution_count": 0,
      "outputs": []
    },
    {
      "cell_type": "code",
      "metadata": {
        "id": "gn3bL2YsBhj2",
        "colab_type": "code",
        "outputId": "0a1cd702-3bb7-4bd8-fd1e-f7d008375c0f",
        "colab": {
          "base_uri": "https://localhost:8080/",
          "height": 50
        }
      },
      "source": [
        "# after converting the input images from 3d to 2d vectors\n",
        "\n",
        "print(\"Number of training examples :\", X_train.shape[0], \"and each image is of shape (%d)\"%(X_train.shape[1]))\n",
        "print(\"Number of training examples :\", X_test.shape[0], \"and each image is of shape (%d)\"%(X_test.shape[1]))"
      ],
      "execution_count": 0,
      "outputs": [
        {
          "output_type": "stream",
          "text": [
            "Number of training examples : 60000 and each image is of shape (784)\n",
            "Number of training examples : 10000 and each image is of shape (784)\n"
          ],
          "name": "stdout"
        }
      ]
    },
    {
      "cell_type": "code",
      "metadata": {
        "id": "tj3e7RH7BsA0",
        "colab_type": "code",
        "outputId": "916cf90c-3365-4189-a774-9b86906d4b19",
        "colab": {
          "base_uri": "https://localhost:8080/",
          "height": 756
        }
      },
      "source": [
        "# An example data point\n",
        "print(X_train[0])"
      ],
      "execution_count": 0,
      "outputs": [
        {
          "output_type": "stream",
          "text": [
            "[  0   0   0   0   0   0   0   0   0   0   0   0   0   0   0   0   0   0\n",
            "   0   0   0   0   0   0   0   0   0   0   0   0   0   0   0   0   0   0\n",
            "   0   0   0   0   0   0   0   0   0   0   0   0   0   0   0   0   0   0\n",
            "   0   0   0   0   0   0   0   0   0   0   0   0   0   0   0   0   0   0\n",
            "   0   0   0   0   0   0   0   0   0   0   0   0   0   0   0   0   0   0\n",
            "   0   0   0   0   0   0   0   0   0   0   0   0   0   0   0   0   0   0\n",
            "   0   0   0   0   0   0   0   0   0   0   0   0   0   0   0   0   0   0\n",
            "   0   0   0   0   0   0   0   0   0   0   0   0   0   0   0   0   0   0\n",
            "   0   0   0   0   0   0   0   0   3  18  18  18 126 136 175  26 166 255\n",
            " 247 127   0   0   0   0   0   0   0   0   0   0   0   0  30  36  94 154\n",
            " 170 253 253 253 253 253 225 172 253 242 195  64   0   0   0   0   0   0\n",
            "   0   0   0   0   0  49 238 253 253 253 253 253 253 253 253 251  93  82\n",
            "  82  56  39   0   0   0   0   0   0   0   0   0   0   0   0  18 219 253\n",
            " 253 253 253 253 198 182 247 241   0   0   0   0   0   0   0   0   0   0\n",
            "   0   0   0   0   0   0   0   0  80 156 107 253 253 205  11   0  43 154\n",
            "   0   0   0   0   0   0   0   0   0   0   0   0   0   0   0   0   0   0\n",
            "   0  14   1 154 253  90   0   0   0   0   0   0   0   0   0   0   0   0\n",
            "   0   0   0   0   0   0   0   0   0   0   0   0   0 139 253 190   2   0\n",
            "   0   0   0   0   0   0   0   0   0   0   0   0   0   0   0   0   0   0\n",
            "   0   0   0   0   0  11 190 253  70   0   0   0   0   0   0   0   0   0\n",
            "   0   0   0   0   0   0   0   0   0   0   0   0   0   0   0   0  35 241\n",
            " 225 160 108   1   0   0   0   0   0   0   0   0   0   0   0   0   0   0\n",
            "   0   0   0   0   0   0   0   0   0  81 240 253 253 119  25   0   0   0\n",
            "   0   0   0   0   0   0   0   0   0   0   0   0   0   0   0   0   0   0\n",
            "   0   0  45 186 253 253 150  27   0   0   0   0   0   0   0   0   0   0\n",
            "   0   0   0   0   0   0   0   0   0   0   0   0   0  16  93 252 253 187\n",
            "   0   0   0   0   0   0   0   0   0   0   0   0   0   0   0   0   0   0\n",
            "   0   0   0   0   0   0   0 249 253 249  64   0   0   0   0   0   0   0\n",
            "   0   0   0   0   0   0   0   0   0   0   0   0   0   0  46 130 183 253\n",
            " 253 207   2   0   0   0   0   0   0   0   0   0   0   0   0   0   0   0\n",
            "   0   0   0   0  39 148 229 253 253 253 250 182   0   0   0   0   0   0\n",
            "   0   0   0   0   0   0   0   0   0   0   0   0  24 114 221 253 253 253\n",
            " 253 201  78   0   0   0   0   0   0   0   0   0   0   0   0   0   0   0\n",
            "   0   0  23  66 213 253 253 253 253 198  81   2   0   0   0   0   0   0\n",
            "   0   0   0   0   0   0   0   0   0   0  18 171 219 253 253 253 253 195\n",
            "  80   9   0   0   0   0   0   0   0   0   0   0   0   0   0   0   0   0\n",
            "  55 172 226 253 253 253 253 244 133  11   0   0   0   0   0   0   0   0\n",
            "   0   0   0   0   0   0   0   0   0   0 136 253 253 253 212 135 132  16\n",
            "   0   0   0   0   0   0   0   0   0   0   0   0   0   0   0   0   0   0\n",
            "   0   0   0   0   0   0   0   0   0   0   0   0   0   0   0   0   0   0\n",
            "   0   0   0   0   0   0   0   0   0   0   0   0   0   0   0   0   0   0\n",
            "   0   0   0   0   0   0   0   0   0   0   0   0   0   0   0   0   0   0\n",
            "   0   0   0   0   0   0   0   0   0   0   0   0   0   0   0   0   0   0\n",
            "   0   0   0   0   0   0   0   0   0   0]\n"
          ],
          "name": "stdout"
        }
      ]
    },
    {
      "cell_type": "code",
      "metadata": {
        "id": "bTFan__TByZE",
        "colab_type": "code",
        "colab": {}
      },
      "source": [
        "# if we observe the above matrix each cell is having a value between 0-255\n",
        "# before we move to apply machine learning algorithms lets try to normalize the data\n",
        "# X => (X - Xmin)/(Xmax-Xmin) = X/255\n",
        "\n",
        "X_train = X_train/255\n",
        "X_test = X_test/255"
      ],
      "execution_count": 0,
      "outputs": []
    },
    {
      "cell_type": "code",
      "metadata": {
        "id": "ENUMTWopB4y_",
        "colab_type": "code",
        "outputId": "2f479d5e-66d6-4cab-cdda-7a4813a20d7e",
        "colab": {
          "base_uri": "https://localhost:8080/",
          "height": 2218
        }
      },
      "source": [
        "# example data point after normlizing\n",
        "print(X_train[0])"
      ],
      "execution_count": 0,
      "outputs": [
        {
          "output_type": "stream",
          "text": [
            "[0.         0.         0.         0.         0.         0.\n",
            " 0.         0.         0.         0.         0.         0.\n",
            " 0.         0.         0.         0.         0.         0.\n",
            " 0.         0.         0.         0.         0.         0.\n",
            " 0.         0.         0.         0.         0.         0.\n",
            " 0.         0.         0.         0.         0.         0.\n",
            " 0.         0.         0.         0.         0.         0.\n",
            " 0.         0.         0.         0.         0.         0.\n",
            " 0.         0.         0.         0.         0.         0.\n",
            " 0.         0.         0.         0.         0.         0.\n",
            " 0.         0.         0.         0.         0.         0.\n",
            " 0.         0.         0.         0.         0.         0.\n",
            " 0.         0.         0.         0.         0.         0.\n",
            " 0.         0.         0.         0.         0.         0.\n",
            " 0.         0.         0.         0.         0.         0.\n",
            " 0.         0.         0.         0.         0.         0.\n",
            " 0.         0.         0.         0.         0.         0.\n",
            " 0.         0.         0.         0.         0.         0.\n",
            " 0.         0.         0.         0.         0.         0.\n",
            " 0.         0.         0.         0.         0.         0.\n",
            " 0.         0.         0.         0.         0.         0.\n",
            " 0.         0.         0.         0.         0.         0.\n",
            " 0.         0.         0.         0.         0.         0.\n",
            " 0.         0.         0.         0.         0.         0.\n",
            " 0.         0.         0.         0.         0.         0.\n",
            " 0.         0.         0.01176471 0.07058824 0.07058824 0.07058824\n",
            " 0.49411765 0.53333333 0.68627451 0.10196078 0.65098039 1.\n",
            " 0.96862745 0.49803922 0.         0.         0.         0.\n",
            " 0.         0.         0.         0.         0.         0.\n",
            " 0.         0.         0.11764706 0.14117647 0.36862745 0.60392157\n",
            " 0.66666667 0.99215686 0.99215686 0.99215686 0.99215686 0.99215686\n",
            " 0.88235294 0.6745098  0.99215686 0.94901961 0.76470588 0.25098039\n",
            " 0.         0.         0.         0.         0.         0.\n",
            " 0.         0.         0.         0.         0.         0.19215686\n",
            " 0.93333333 0.99215686 0.99215686 0.99215686 0.99215686 0.99215686\n",
            " 0.99215686 0.99215686 0.99215686 0.98431373 0.36470588 0.32156863\n",
            " 0.32156863 0.21960784 0.15294118 0.         0.         0.\n",
            " 0.         0.         0.         0.         0.         0.\n",
            " 0.         0.         0.         0.07058824 0.85882353 0.99215686\n",
            " 0.99215686 0.99215686 0.99215686 0.99215686 0.77647059 0.71372549\n",
            " 0.96862745 0.94509804 0.         0.         0.         0.\n",
            " 0.         0.         0.         0.         0.         0.\n",
            " 0.         0.         0.         0.         0.         0.\n",
            " 0.         0.         0.31372549 0.61176471 0.41960784 0.99215686\n",
            " 0.99215686 0.80392157 0.04313725 0.         0.16862745 0.60392157\n",
            " 0.         0.         0.         0.         0.         0.\n",
            " 0.         0.         0.         0.         0.         0.\n",
            " 0.         0.         0.         0.         0.         0.\n",
            " 0.         0.05490196 0.00392157 0.60392157 0.99215686 0.35294118\n",
            " 0.         0.         0.         0.         0.         0.\n",
            " 0.         0.         0.         0.         0.         0.\n",
            " 0.         0.         0.         0.         0.         0.\n",
            " 0.         0.         0.         0.         0.         0.\n",
            " 0.         0.54509804 0.99215686 0.74509804 0.00784314 0.\n",
            " 0.         0.         0.         0.         0.         0.\n",
            " 0.         0.         0.         0.         0.         0.\n",
            " 0.         0.         0.         0.         0.         0.\n",
            " 0.         0.         0.         0.         0.         0.04313725\n",
            " 0.74509804 0.99215686 0.2745098  0.         0.         0.\n",
            " 0.         0.         0.         0.         0.         0.\n",
            " 0.         0.         0.         0.         0.         0.\n",
            " 0.         0.         0.         0.         0.         0.\n",
            " 0.         0.         0.         0.         0.1372549  0.94509804\n",
            " 0.88235294 0.62745098 0.42352941 0.00392157 0.         0.\n",
            " 0.         0.         0.         0.         0.         0.\n",
            " 0.         0.         0.         0.         0.         0.\n",
            " 0.         0.         0.         0.         0.         0.\n",
            " 0.         0.         0.         0.31764706 0.94117647 0.99215686\n",
            " 0.99215686 0.46666667 0.09803922 0.         0.         0.\n",
            " 0.         0.         0.         0.         0.         0.\n",
            " 0.         0.         0.         0.         0.         0.\n",
            " 0.         0.         0.         0.         0.         0.\n",
            " 0.         0.         0.17647059 0.72941176 0.99215686 0.99215686\n",
            " 0.58823529 0.10588235 0.         0.         0.         0.\n",
            " 0.         0.         0.         0.         0.         0.\n",
            " 0.         0.         0.         0.         0.         0.\n",
            " 0.         0.         0.         0.         0.         0.\n",
            " 0.         0.0627451  0.36470588 0.98823529 0.99215686 0.73333333\n",
            " 0.         0.         0.         0.         0.         0.\n",
            " 0.         0.         0.         0.         0.         0.\n",
            " 0.         0.         0.         0.         0.         0.\n",
            " 0.         0.         0.         0.         0.         0.\n",
            " 0.         0.97647059 0.99215686 0.97647059 0.25098039 0.\n",
            " 0.         0.         0.         0.         0.         0.\n",
            " 0.         0.         0.         0.         0.         0.\n",
            " 0.         0.         0.         0.         0.         0.\n",
            " 0.         0.         0.18039216 0.50980392 0.71764706 0.99215686\n",
            " 0.99215686 0.81176471 0.00784314 0.         0.         0.\n",
            " 0.         0.         0.         0.         0.         0.\n",
            " 0.         0.         0.         0.         0.         0.\n",
            " 0.         0.         0.         0.         0.15294118 0.58039216\n",
            " 0.89803922 0.99215686 0.99215686 0.99215686 0.98039216 0.71372549\n",
            " 0.         0.         0.         0.         0.         0.\n",
            " 0.         0.         0.         0.         0.         0.\n",
            " 0.         0.         0.         0.         0.         0.\n",
            " 0.09411765 0.44705882 0.86666667 0.99215686 0.99215686 0.99215686\n",
            " 0.99215686 0.78823529 0.30588235 0.         0.         0.\n",
            " 0.         0.         0.         0.         0.         0.\n",
            " 0.         0.         0.         0.         0.         0.\n",
            " 0.         0.         0.09019608 0.25882353 0.83529412 0.99215686\n",
            " 0.99215686 0.99215686 0.99215686 0.77647059 0.31764706 0.00784314\n",
            " 0.         0.         0.         0.         0.         0.\n",
            " 0.         0.         0.         0.         0.         0.\n",
            " 0.         0.         0.         0.         0.07058824 0.67058824\n",
            " 0.85882353 0.99215686 0.99215686 0.99215686 0.99215686 0.76470588\n",
            " 0.31372549 0.03529412 0.         0.         0.         0.\n",
            " 0.         0.         0.         0.         0.         0.\n",
            " 0.         0.         0.         0.         0.         0.\n",
            " 0.21568627 0.6745098  0.88627451 0.99215686 0.99215686 0.99215686\n",
            " 0.99215686 0.95686275 0.52156863 0.04313725 0.         0.\n",
            " 0.         0.         0.         0.         0.         0.\n",
            " 0.         0.         0.         0.         0.         0.\n",
            " 0.         0.         0.         0.         0.53333333 0.99215686\n",
            " 0.99215686 0.99215686 0.83137255 0.52941176 0.51764706 0.0627451\n",
            " 0.         0.         0.         0.         0.         0.\n",
            " 0.         0.         0.         0.         0.         0.\n",
            " 0.         0.         0.         0.         0.         0.\n",
            " 0.         0.         0.         0.         0.         0.\n",
            " 0.         0.         0.         0.         0.         0.\n",
            " 0.         0.         0.         0.         0.         0.\n",
            " 0.         0.         0.         0.         0.         0.\n",
            " 0.         0.         0.         0.         0.         0.\n",
            " 0.         0.         0.         0.         0.         0.\n",
            " 0.         0.         0.         0.         0.         0.\n",
            " 0.         0.         0.         0.         0.         0.\n",
            " 0.         0.         0.         0.         0.         0.\n",
            " 0.         0.         0.         0.         0.         0.\n",
            " 0.         0.         0.         0.         0.         0.\n",
            " 0.         0.         0.         0.         0.         0.\n",
            " 0.         0.         0.         0.         0.         0.\n",
            " 0.         0.         0.         0.        ]\n"
          ],
          "name": "stdout"
        }
      ]
    },
    {
      "cell_type": "code",
      "metadata": {
        "id": "qbyv-fPTCB08",
        "colab_type": "code",
        "outputId": "acb9bf3f-01d7-42b5-ddeb-b2bafb840e1c",
        "colab": {
          "base_uri": "https://localhost:8080/",
          "height": 50
        }
      },
      "source": [
        "# here we are having a class number for each image\n",
        "print(\"Class label of first image :\", y_train[0])\n",
        "\n",
        "# lets convert this into a 10 dimensional vector\n",
        "# ex: consider an image is 5 convert it into 5 => [0, 0, 0, 0, 0, 1, 0, 0, 0, 0]\n",
        "# this conversion needed for MLPs \n",
        "\n",
        "Y_train = np_utils.to_categorical(y_train, 10) \n",
        "Y_test = np_utils.to_categorical(y_test, 10)\n",
        "\n",
        "print(\"After converting the output into a vector : \",Y_train[0])"
      ],
      "execution_count": 0,
      "outputs": [
        {
          "output_type": "stream",
          "text": [
            "Class label of first image : 5\n",
            "After converting the output into a vector :  [0. 0. 0. 0. 0. 1. 0. 0. 0. 0.]\n"
          ],
          "name": "stdout"
        }
      ]
    },
    {
      "cell_type": "code",
      "metadata": {
        "id": "gL9fMu6cCMd1",
        "colab_type": "code",
        "colab": {}
      },
      "source": [
        ""
      ],
      "execution_count": 0,
      "outputs": []
    },
    {
      "cell_type": "markdown",
      "metadata": {
        "id": "domp4nRsCSFn",
        "colab_type": "text"
      },
      "source": [
        "**Softmax classifier**"
      ]
    },
    {
      "cell_type": "code",
      "metadata": {
        "id": "E8LlJBPJCVkp",
        "colab_type": "code",
        "colab": {}
      },
      "source": [
        "from keras.models import Sequential \n",
        "from keras.layers import Dense, Activation \n"
      ],
      "execution_count": 0,
      "outputs": []
    },
    {
      "cell_type": "code",
      "metadata": {
        "id": "byDXyYikCgNC",
        "colab_type": "code",
        "colab": {}
      },
      "source": [
        "# some model parameters\n",
        "\n",
        "output_dim = 10\n",
        "input_dim = X_train.shape[1]\n",
        "\n",
        "batch_size = 156\n",
        "nb_epoch = 20"
      ],
      "execution_count": 0,
      "outputs": []
    },
    {
      "cell_type": "code",
      "metadata": {
        "id": "durs3r5LCje2",
        "colab_type": "code",
        "colab": {}
      },
      "source": [
        "# start building a model\n",
        "model = Sequential()\n",
        "\n",
        "# The model needs to know what input shape it should expect. \n",
        "# For this reason, the first layer in a Sequential model \n",
        "# (and only the first, because following layers can do automatic shape inference)\n",
        "# needs to receive information about its input shape. \n",
        "# you can use input_shape and input_dim to pass the shape of input\n",
        "\n",
        "# output_dim represent the number of nodes need in that layer\n",
        "# here we have 10 nodes\n",
        "\n",
        "model.add(Dense(output_dim, input_dim=input_dim, activation='softmax'))"
      ],
      "execution_count": 0,
      "outputs": []
    },
    {
      "cell_type": "code",
      "metadata": {
        "id": "J0Tgl-LmCoV4",
        "colab_type": "code",
        "outputId": "ca5b1ec4-856a-46fd-e3ba-5d4f65caff86",
        "colab": {
          "base_uri": "https://localhost:8080/",
          "height": 706
        }
      },
      "source": [
        "# Before training a model, you need to configure the learning process, which is done via the compile method\n",
        "\n",
        "# It receives three arguments:\n",
        "# An optimizer. This could be the string identifier of an existing optimizer , https://keras.io/optimizers/\n",
        "# A loss function. This is the objective that the model will try to minimize., https://keras.io/losses/\n",
        "# A list of metrics. For any classification problem you will want to set this to metrics=['accuracy'].  https://keras.io/metrics/\n",
        "\n",
        "\n",
        "# Note: when using the categorical_crossentropy loss, your targets should be in categorical format \n",
        "# (e.g. if you have 10 classes, the target for each sample should be a 10-dimensional vector that is all-zeros except \n",
        "# for a 1 at the index corresponding to the class of the sample).\n",
        "\n",
        "# that is why we converted out labels into vectors\n",
        "\n",
        "model.compile(optimizer='sgd', loss='categorical_crossentropy', metrics=['accuracy'])\n",
        "\n",
        "# Keras models are trained on Numpy arrays of input data and labels. \n",
        "# For training a model, you will typically use the  fit function\n",
        "\n",
        "# fit(self, x=None, y=None, batch_size=None, epochs=1, verbose=1, callbacks=None, validation_split=0.0, \n",
        "# validation_data=None, shuffle=True, class_weight=None, sample_weight=None, initial_epoch=0, steps_per_epoch=None, \n",
        "# validation_steps=None)\n",
        "\n",
        "# fit() function Trains the model for a fixed number of epochs (iterations on a dataset).\n",
        "\n",
        "# it returns A History object. Its History.history attribute is a record of training loss values and \n",
        "# metrics values at successive epochs, as well as validation loss values and validation metrics values (if applicable).\n",
        "\n",
        "# https://github.com/openai/baselines/issues/20\n",
        "\n",
        "history = model.fit(X_train, Y_train, batch_size=batch_size, epochs=nb_epoch, verbose=1, validation_data=(X_test, Y_test)) \n"
      ],
      "execution_count": 0,
      "outputs": [
        {
          "output_type": "stream",
          "text": [
            "Train on 60000 samples, validate on 10000 samples\n",
            "Epoch 1/20\n",
            "60000/60000 [==============================] - 2s 27us/step - loss: 1.3658 - acc: 0.6811 - val_loss: 0.8797 - val_acc: 0.8261\n",
            "Epoch 2/20\n",
            "60000/60000 [==============================] - 1s 18us/step - loss: 0.7722 - acc: 0.8353 - val_loss: 0.6500 - val_acc: 0.8575\n",
            "Epoch 3/20\n",
            "60000/60000 [==============================] - 1s 17us/step - loss: 0.6268 - acc: 0.8549 - val_loss: 0.5579 - val_acc: 0.8707\n",
            "Epoch 4/20\n",
            "60000/60000 [==============================] - 1s 18us/step - loss: 0.5570 - acc: 0.8647 - val_loss: 0.5066 - val_acc: 0.8787\n",
            "Epoch 5/20\n",
            "60000/60000 [==============================] - 1s 19us/step - loss: 0.5147 - acc: 0.8713 - val_loss: 0.4728 - val_acc: 0.8853\n",
            "Epoch 6/20\n",
            "60000/60000 [==============================] - 1s 19us/step - loss: 0.4856 - acc: 0.8768 - val_loss: 0.4492 - val_acc: 0.8883\n",
            "Epoch 7/20\n",
            "60000/60000 [==============================] - 1s 18us/step - loss: 0.4641 - acc: 0.8810 - val_loss: 0.4309 - val_acc: 0.8922\n",
            "Epoch 8/20\n",
            "60000/60000 [==============================] - 1s 18us/step - loss: 0.4474 - acc: 0.8835 - val_loss: 0.4169 - val_acc: 0.8937\n",
            "Epoch 9/20\n",
            "60000/60000 [==============================] - 1s 19us/step - loss: 0.4340 - acc: 0.8860 - val_loss: 0.4052 - val_acc: 0.8963\n",
            "Epoch 10/20\n",
            "60000/60000 [==============================] - 1s 20us/step - loss: 0.4228 - acc: 0.8881 - val_loss: 0.3956 - val_acc: 0.8974\n",
            "Epoch 11/20\n",
            "60000/60000 [==============================] - 1s 20us/step - loss: 0.4134 - acc: 0.8901 - val_loss: 0.3872 - val_acc: 0.8994\n",
            "Epoch 12/20\n",
            "60000/60000 [==============================] - 1s 19us/step - loss: 0.4053 - acc: 0.8916 - val_loss: 0.3804 - val_acc: 0.9001\n",
            "Epoch 13/20\n",
            "60000/60000 [==============================] - 1s 19us/step - loss: 0.3983 - acc: 0.8932 - val_loss: 0.3742 - val_acc: 0.9013\n",
            "Epoch 14/20\n",
            "60000/60000 [==============================] - 1s 19us/step - loss: 0.3920 - acc: 0.8942 - val_loss: 0.3688 - val_acc: 0.9022\n",
            "Epoch 15/20\n",
            "60000/60000 [==============================] - 1s 20us/step - loss: 0.3865 - acc: 0.8950 - val_loss: 0.3640 - val_acc: 0.9025\n",
            "Epoch 16/20\n",
            "60000/60000 [==============================] - 1s 20us/step - loss: 0.3815 - acc: 0.8963 - val_loss: 0.3594 - val_acc: 0.9033\n",
            "Epoch 17/20\n",
            "60000/60000 [==============================] - 1s 20us/step - loss: 0.3769 - acc: 0.8977 - val_loss: 0.3554 - val_acc: 0.9043\n",
            "Epoch 18/20\n",
            "60000/60000 [==============================] - 1s 20us/step - loss: 0.3728 - acc: 0.8982 - val_loss: 0.3519 - val_acc: 0.9044\n",
            "Epoch 19/20\n",
            "60000/60000 [==============================] - 1s 19us/step - loss: 0.3690 - acc: 0.8990 - val_loss: 0.3486 - val_acc: 0.9049\n",
            "Epoch 20/20\n",
            "60000/60000 [==============================] - 1s 19us/step - loss: 0.3656 - acc: 0.9003 - val_loss: 0.3456 - val_acc: 0.9051\n"
          ],
          "name": "stdout"
        }
      ]
    },
    {
      "cell_type": "code",
      "metadata": {
        "id": "5_IoAy4KC6fw",
        "colab_type": "code",
        "outputId": "8a4b24b2-3c30-455d-e65b-41c0babcda8b",
        "colab": {
          "base_uri": "https://localhost:8080/",
          "height": 50
        }
      },
      "source": [
        "score = model.evaluate(X_test, Y_test, verbose=0) \n",
        "print('Test score:', score[0]) \n",
        "print('Test accuracy:', score[1])"
      ],
      "execution_count": 0,
      "outputs": [
        {
          "output_type": "stream",
          "text": [
            "Test score: 0.3455672636508942\n",
            "Test accuracy: 0.9051\n"
          ],
          "name": "stdout"
        }
      ]
    },
    {
      "cell_type": "code",
      "metadata": {
        "id": "gUx9rUrbDEas",
        "colab_type": "code",
        "outputId": "bc0151da-e808-4fb5-c3da-1bf08661d9a2",
        "colab": {
          "base_uri": "https://localhost:8080/",
          "height": 280
        }
      },
      "source": [
        "rfig,ax = plt.subplots(1,1)\n",
        "ax.set_xlabel('epoch') ; ax.set_ylabel('Categorical Crossentropy Loss')\n",
        "\n",
        "# list of epoch numbers\n",
        "x = list(range(1,nb_epoch+1))\n",
        "\n",
        "# print(history.history.keys())\n",
        "# dict_keys(['val_loss', 'val_acc', 'loss', 'acc'])\n",
        "# history = model_drop.fit(X_train, Y_train, batch_size=batch_size, epochs=nb_epoch, verbose=1, validation_data=(X_test, Y_test))\n",
        "\n",
        "# we will get val_loss and val_acc only when you pass the paramter validation_data\n",
        "# val_loss : validation loss\n",
        "# val_acc : validation accuracy\n",
        "\n",
        "# loss : training loss\n",
        "# acc : train accuracy\n",
        "# for each key in histrory.histrory we will have a list of length equal to number of epochs\n",
        "\n",
        "vy = history.history['val_loss']\n",
        "ty = history.history['loss']\n",
        "plt_dynamic(x, vy, ty, ax)\n"
      ],
      "execution_count": 0,
      "outputs": [
        {
          "output_type": "display_data",
          "data": {
            "image/png": "[encoded data removed]",
            "text/plain": [
              "<matplotlib.figure.Figure at 0x7f6d361fdcf8>"
            ]
          },
          "metadata": {
            "tags": []
          }
        }
      ]
    },
    {
      "cell_type": "markdown",
      "metadata": {
        "id": "jZJ9OIJhtTAx",
        "colab_type": "text"
      },
      "source": [
        "# MLP + ReLU +Adam"
      ]
    },
    {
      "cell_type": "code",
      "metadata": {
        "id": "V-EvvIcrDnlR",
        "colab_type": "code",
        "outputId": "943ec2ea-292c-4905-e334-ae49aaad5719",
        "colab": {
          "base_uri": "https://localhost:8080/",
          "height": 235
        }
      },
      "source": [
        "# Multilayer perceptron\n",
        "\n",
        "# https://arxiv.org/pdf/1707.09725.pdf#page=95\n",
        "# for relu layers\n",
        "# If we sample weights from a normal distribution N(0,σ) we satisfy this condition with σ=√(2/(ni). \n",
        "# h1 =>  σ=√(2/(fan_in) = 0.059  => N(0,σ) = N(0,0.059)\n",
        "# h2 =>  σ=√(2/(fan_in) = 0.113  => N(0,σ) = N(0,0.113)\n",
        "\n",
        "model_relu = Sequential()\n",
        "model_relu.add(Dense(556, activation='relu', input_shape=(input_dim,), kernel_initializer=RandomNormal(mean=0.0, stddev=0.059, seed=None)))\n",
        "model_relu.add(Dense(156, activation='relu', kernel_initializer=RandomNormal(mean=0.0, stddev=0.113, seed=None)) )\n",
        "model_relu.add(Dense(output_dim, activation='softmax'))\n",
        "\n",
        "model_relu.summary()"
      ],
      "execution_count": 0,
      "outputs": [
        {
          "output_type": "stream",
          "text": [
            "_________________________________________________________________\n",
            "Layer (type)                 Output Shape              Param #   \n",
            "=================================================================\n",
            "dense_2 (Dense)              (None, 556)               436460    \n",
            "_________________________________________________________________\n",
            "dense_3 (Dense)              (None, 156)               86892     \n",
            "_________________________________________________________________\n",
            "dense_4 (Dense)              (None, 10)                1570      \n",
            "=================================================================\n",
            "Total params: 524,922\n",
            "Trainable params: 524,922\n",
            "Non-trainable params: 0\n",
            "_________________________________________________________________\n"
          ],
          "name": "stdout"
        }
      ]
    },
    {
      "cell_type": "code",
      "metadata": {
        "id": "E2v0Ps47u5yu",
        "colab_type": "code",
        "outputId": "04c896ad-6271-455a-f257-1268a8e87037",
        "colab": {
          "base_uri": "https://localhost:8080/",
          "height": 706
        }
      },
      "source": [
        "model_relu.compile(optimizer='adam', loss='categorical_crossentropy', metrics=['accuracy'])\n",
        "\n",
        "history = model_relu.fit(X_train, Y_train, batch_size=batch_size, epochs=nb_epoch, verbose=1, validation_data=(X_test, Y_test))"
      ],
      "execution_count": 0,
      "outputs": [
        {
          "output_type": "stream",
          "text": [
            "Train on 60000 samples, validate on 10000 samples\n",
            "Epoch 1/20\n",
            "60000/60000 [==============================] - 7s 116us/step - loss: 0.1708 - acc: 0.9490 - val_loss: 0.1148 - val_acc: 0.9631\n",
            "Epoch 2/20\n",
            "60000/60000 [==============================] - 7s 113us/step - loss: 0.0760 - acc: 0.9766 - val_loss: 0.0946 - val_acc: 0.9722\n",
            "Epoch 3/20\n",
            "60000/60000 [==============================] - 7s 113us/step - loss: 0.0483 - acc: 0.9849 - val_loss: 0.0710 - val_acc: 0.9794\n",
            "Epoch 4/20\n",
            "60000/60000 [==============================] - 7s 116us/step - loss: 0.0334 - acc: 0.9893 - val_loss: 0.0650 - val_acc: 0.9804\n",
            "Epoch 5/20\n",
            "60000/60000 [==============================] - 7s 115us/step - loss: 0.0235 - acc: 0.9928 - val_loss: 0.0699 - val_acc: 0.9789\n",
            "Epoch 6/20\n",
            "60000/60000 [==============================] - 7s 110us/step - loss: 0.0182 - acc: 0.9941 - val_loss: 0.0652 - val_acc: 0.9818\n",
            "Epoch 7/20\n",
            "60000/60000 [==============================] - 7s 113us/step - loss: 0.0131 - acc: 0.9959 - val_loss: 0.0688 - val_acc: 0.9810\n",
            "Epoch 8/20\n",
            "60000/60000 [==============================] - 7s 116us/step - loss: 0.0145 - acc: 0.9954 - val_loss: 0.0782 - val_acc: 0.9788\n",
            "Epoch 9/20\n",
            "60000/60000 [==============================] - 7s 111us/step - loss: 0.0116 - acc: 0.9965 - val_loss: 0.0753 - val_acc: 0.9807\n",
            "Epoch 10/20\n",
            "60000/60000 [==============================] - 7s 115us/step - loss: 0.0095 - acc: 0.9970 - val_loss: 0.0675 - val_acc: 0.9817\n",
            "Epoch 11/20\n",
            "60000/60000 [==============================] - 7s 116us/step - loss: 0.0116 - acc: 0.9958 - val_loss: 0.0730 - val_acc: 0.9818\n",
            "Epoch 12/20\n",
            "60000/60000 [==============================] - 7s 111us/step - loss: 0.0103 - acc: 0.9968 - val_loss: 0.0907 - val_acc: 0.9796\n",
            "Epoch 13/20\n",
            "60000/60000 [==============================] - 7s 115us/step - loss: 0.0110 - acc: 0.9963 - val_loss: 0.0787 - val_acc: 0.9806\n",
            "Epoch 14/20\n",
            "60000/60000 [==============================] - 7s 111us/step - loss: 0.0082 - acc: 0.9975 - val_loss: 0.0934 - val_acc: 0.9795\n",
            "Epoch 15/20\n",
            "60000/60000 [==============================] - 7s 115us/step - loss: 0.0056 - acc: 0.9982 - val_loss: 0.0824 - val_acc: 0.9820\n",
            "Epoch 16/20\n",
            "60000/60000 [==============================] - 7s 116us/step - loss: 0.0089 - acc: 0.9973 - val_loss: 0.0801 - val_acc: 0.9817\n",
            "Epoch 17/20\n",
            "60000/60000 [==============================] - 7s 111us/step - loss: 0.0088 - acc: 0.9970 - val_loss: 0.0903 - val_acc: 0.9799\n",
            "Epoch 18/20\n",
            "60000/60000 [==============================] - 7s 111us/step - loss: 0.0088 - acc: 0.9971 - val_loss: 0.0915 - val_acc: 0.9804\n",
            "Epoch 19/20\n",
            "60000/60000 [==============================] - 6s 107us/step - loss: 0.0031 - acc: 0.9990 - val_loss: 0.0823 - val_acc: 0.9824\n",
            "Epoch 20/20\n",
            "60000/60000 [==============================] - 7s 110us/step - loss: 0.0062 - acc: 0.9980 - val_loss: 0.0968 - val_acc: 0.9802\n"
          ],
          "name": "stdout"
        }
      ]
    },
    {
      "cell_type": "code",
      "metadata": {
        "id": "4jv9K2wMvGNE",
        "colab_type": "code",
        "outputId": "a50cd3d7-3710-4c17-8051-5cb8a73fad15",
        "colab": {
          "base_uri": "https://localhost:8080/",
          "height": 313
        }
      },
      "source": [
        "score = model_relu.evaluate(X_test, Y_test, verbose=0) \n",
        "print('Test score:', score[0]) \n",
        "print('Test accuracy:', score[1])\n",
        "\n",
        "fig,ax = plt.subplots(1,1)\n",
        "ax.set_xlabel('epoch') ; ax.set_ylabel('Categorical Crossentropy Loss')\n",
        "\n",
        "# list of epoch numbers\n",
        "x = list(range(1,nb_epoch+1))\n",
        "\n",
        "# print(history.history.keys())\n",
        "# dict_keys(['val_loss', 'val_acc', 'loss', 'acc'])\n",
        "# history = model_drop.fit(X_train, Y_train, batch_size=batch_size, epochs=nb_epoch, verbose=1, validation_data=(X_test, Y_test))\n",
        "\n",
        "# we will get val_loss and val_acc only when you pass the paramter validation_data\n",
        "# val_loss : validation loss\n",
        "# val_acc : validation accuracy\n",
        "\n",
        "# loss : training loss\n",
        "# acc : train accuracy\n",
        "# for each key in histrory.histrory we will have a list of length equal to number of epochs\n",
        "\n",
        "vy = history.history['val_loss']\n",
        "ty = history.history['loss']\n",
        "plt_dynamic(x, vy, ty, ax)"
      ],
      "execution_count": 0,
      "outputs": [
        {
          "output_type": "stream",
          "text": [
            "Test score: 0.09683581481487936\n",
            "Test accuracy: 0.9802\n"
          ],
          "name": "stdout"
        },
        {
          "output_type": "display_data",
          "data": {
            "image/png": "[encoded data removed]",
            "text/plain": [
              "<matplotlib.figure.Figure at 0x7f6d33287dd8>"
            ]
          },
          "metadata": {
            "tags": []
          }
        }
      ]
    },
    {
      "cell_type": "code",
      "metadata": {
        "id": "frVP1cxJwezu",
        "colab_type": "code",
        "colab": {}
      },
      "source": [
        ""
      ],
      "execution_count": 0,
      "outputs": []
    },
    {
      "cell_type": "markdown",
      "metadata": {
        "id": "8Xbxo9gzwfZL",
        "colab_type": "text"
      },
      "source": [
        "# Input(784)+ReLu(580)+ReLu(325)+ReLu(125)+Softmax(Output(10))"
      ]
    },
    {
      "cell_type": "code",
      "metadata": {
        "id": "4qDx2ZZ2xDLR",
        "colab_type": "code",
        "outputId": "7e94b914-5a63-4379-98ed-c440698d7021",
        "colab": {
          "base_uri": "https://localhost:8080/",
          "height": 470
        }
      },
      "source": [
        "# h1 =>  σ=√(2/(fan_in) = 0.058  => N(0,σ) = N(0,0.058)\n",
        "# h2 =>  σ=√(2/(fan_in) = 0.078  => N(0,σ) = N(0,0.078)\n",
        "# h3 =>  σ=√(2/(fan_in) = 0.126  => N(0,σ) = N(0,0.126)\n",
        "\n",
        "from keras.layers.normalization import BatchNormalization\n",
        "from keras.layers import Dropout\n",
        "\n",
        "\n",
        "model_relu = Sequential()\n",
        "model_relu.add(Dense(580, activation='relu', input_shape=(input_dim,), kernel_initializer=RandomNormal(mean=0.0, stddev=0.058, seed=None)))\n",
        "model_relu.add(BatchNormalization())\n",
        "model_relu.add(Dropout(0.5))\n",
        "\n",
        "model_relu.add(Dense(325, activation='relu', kernel_initializer=RandomNormal(mean=0.0, stddev=0.078, seed=None)) )\n",
        "model_relu.add(BatchNormalization())\n",
        "model_relu.add(Dropout(0.5))\n",
        "\n",
        "model_relu.add(Dense(125, activation='relu', kernel_initializer=RandomNormal(mean=0.0, stddev=0.126, seed=None)) )\n",
        "model_relu.add(BatchNormalization())\n",
        "model_relu.add(Dropout(0.5))\n",
        "\n",
        "model_relu.add(Dense(output_dim, activation='softmax'))\n",
        "\n",
        "model_relu.summary()"
      ],
      "execution_count": 0,
      "outputs": [
        {
          "output_type": "stream",
          "text": [
            "_________________________________________________________________\n",
            "Layer (type)                 Output Shape              Param #   \n",
            "=================================================================\n",
            "dense_7 (Dense)              (None, 580)               455300    \n",
            "_________________________________________________________________\n",
            "batch_normalization_2 (Batch (None, 580)               2320      \n",
            "_________________________________________________________________\n",
            "dropout_1 (Dropout)          (None, 580)               0         \n",
            "_________________________________________________________________\n",
            "dense_8 (Dense)              (None, 325)               188825    \n",
            "_________________________________________________________________\n",
            "batch_normalization_3 (Batch (None, 325)               1300      \n",
            "_________________________________________________________________\n",
            "dropout_2 (Dropout)          (None, 325)               0         \n",
            "_________________________________________________________________\n",
            "dense_9 (Dense)              (None, 125)               40750     \n",
            "_________________________________________________________________\n",
            "batch_normalization_4 (Batch (None, 125)               500       \n",
            "_________________________________________________________________\n",
            "dropout_3 (Dropout)          (None, 125)               0         \n",
            "_________________________________________________________________\n",
            "dense_10 (Dense)             (None, 10)                1260      \n",
            "=================================================================\n",
            "Total params: 690,255\n",
            "Trainable params: 688,195\n",
            "Non-trainable params: 2,060\n",
            "_________________________________________________________________\n"
          ],
          "name": "stdout"
        }
      ]
    },
    {
      "cell_type": "code",
      "metadata": {
        "id": "X82OGLv21jGk",
        "colab_type": "code",
        "outputId": "a9e105b7-0614-4cd1-8410-32bbe1ce131f",
        "colab": {
          "base_uri": "https://localhost:8080/",
          "height": 706
        }
      },
      "source": [
        "model_relu.compile(optimizer='adam', loss='categorical_crossentropy', metrics=['accuracy'])\n",
        "\n",
        "history = model_relu.fit(X_train, Y_train, batch_size=batch_size, epochs=nb_epoch, verbose=1, validation_data=(X_test, Y_test))"
      ],
      "execution_count": 0,
      "outputs": [
        {
          "output_type": "stream",
          "text": [
            "Train on 60000 samples, validate on 10000 samples\n",
            "Epoch 1/20\n",
            "60000/60000 [==============================] - 14s 229us/step - loss: 0.6143 - acc: 0.8121 - val_loss: 0.1724 - val_acc: 0.9478\n",
            "Epoch 2/20\n",
            "60000/60000 [==============================] - 13s 209us/step - loss: 0.2568 - acc: 0.9231 - val_loss: 0.1223 - val_acc: 0.9628\n",
            "Epoch 3/20\n",
            "60000/60000 [==============================] - 12s 206us/step - loss: 0.1946 - acc: 0.9435 - val_loss: 0.1054 - val_acc: 0.9679\n",
            "Epoch 4/20\n",
            "60000/60000 [==============================] - 12s 207us/step - loss: 0.1592 - acc: 0.9524 - val_loss: 0.0864 - val_acc: 0.9738\n",
            "Epoch 5/20\n",
            "60000/60000 [==============================] - 12s 207us/step - loss: 0.1401 - acc: 0.9586 - val_loss: 0.0835 - val_acc: 0.9731\n",
            "Epoch 6/20\n",
            "60000/60000 [==============================] - 13s 209us/step - loss: 0.1235 - acc: 0.9635 - val_loss: 0.0730 - val_acc: 0.9778\n",
            "Epoch 7/20\n",
            "60000/60000 [==============================] - 13s 211us/step - loss: 0.1173 - acc: 0.9649 - val_loss: 0.0789 - val_acc: 0.9758\n",
            "Epoch 8/20\n",
            "60000/60000 [==============================] - 12s 204us/step - loss: 0.1047 - acc: 0.9689 - val_loss: 0.0717 - val_acc: 0.9784\n",
            "Epoch 9/20\n",
            "60000/60000 [==============================] - 12s 207us/step - loss: 0.0983 - acc: 0.9705 - val_loss: 0.0710 - val_acc: 0.9796\n",
            "Epoch 10/20\n",
            "60000/60000 [==============================] - 12s 205us/step - loss: 0.0920 - acc: 0.9721 - val_loss: 0.0693 - val_acc: 0.9806\n",
            "Epoch 11/20\n",
            "60000/60000 [==============================] - 12s 205us/step - loss: 0.0849 - acc: 0.9738 - val_loss: 0.0705 - val_acc: 0.9803\n",
            "Epoch 12/20\n",
            "60000/60000 [==============================] - 12s 205us/step - loss: 0.0810 - acc: 0.9750 - val_loss: 0.0672 - val_acc: 0.9808\n",
            "Epoch 13/20\n",
            "60000/60000 [==============================] - 12s 205us/step - loss: 0.0771 - acc: 0.9764 - val_loss: 0.0659 - val_acc: 0.9806\n",
            "Epoch 14/20\n",
            "60000/60000 [==============================] - 12s 204us/step - loss: 0.0735 - acc: 0.9778 - val_loss: 0.0671 - val_acc: 0.9808\n",
            "Epoch 15/20\n",
            "60000/60000 [==============================] - 13s 213us/step - loss: 0.0705 - acc: 0.9787 - val_loss: 0.0598 - val_acc: 0.9826\n",
            "Epoch 16/20\n",
            "60000/60000 [==============================] - 12s 205us/step - loss: 0.0679 - acc: 0.9789 - val_loss: 0.0589 - val_acc: 0.9829\n",
            "Epoch 17/20\n",
            "60000/60000 [==============================] - 12s 205us/step - loss: 0.0663 - acc: 0.9797 - val_loss: 0.0651 - val_acc: 0.9816\n",
            "Epoch 18/20\n",
            "60000/60000 [==============================] - 12s 207us/step - loss: 0.0638 - acc: 0.9799 - val_loss: 0.0657 - val_acc: 0.9820\n",
            "Epoch 19/20\n",
            "60000/60000 [==============================] - 12s 203us/step - loss: 0.0606 - acc: 0.9815 - val_loss: 0.0573 - val_acc: 0.9836\n",
            "Epoch 20/20\n",
            "60000/60000 [==============================] - 12s 205us/step - loss: 0.0578 - acc: 0.9821 - val_loss: 0.0555 - val_acc: 0.9837\n"
          ],
          "name": "stdout"
        }
      ]
    },
    {
      "cell_type": "code",
      "metadata": {
        "id": "6X1V8j-q17-Q",
        "colab_type": "code",
        "outputId": "1e7e81a7-754e-40ee-d9ab-d2d2d997ed61",
        "colab": {
          "base_uri": "https://localhost:8080/",
          "height": 313
        }
      },
      "source": [
        "score = model_relu.evaluate(X_test, Y_test, verbose=0) \n",
        "print('Test score:', score[0]) \n",
        "print('Test accuracy:', score[1])\n",
        "\n",
        "fig,ax = plt.subplots(1,1)\n",
        "ax.set_xlabel('epoch') ; ax.set_ylabel('Categorical Crossentropy Loss')\n",
        "\n",
        "# list of epoch numbers\n",
        "x = list(range(1,nb_epoch+1))\n",
        "\n",
        "# print(history.history.keys())\n",
        "# dict_keys(['val_loss', 'val_acc', 'loss', 'acc'])\n",
        "# history = model_drop.fit(X_train, Y_train, batch_size=batch_size, epochs=nb_epoch, verbose=1, validation_data=(X_test, Y_test))\n",
        "\n",
        "# we will get val_loss and val_acc only when you pass the paramter validation_data\n",
        "# val_loss : validation loss\n",
        "# val_acc : validation accuracy\n",
        "\n",
        "# loss : training loss\n",
        "# acc : train accuracy\n",
        "# for each key in histrory.histrory we will have a list of length equal to number of epochs\n",
        "\n",
        "vy = history.history['val_loss']\n",
        "ty = history.history['loss']\n",
        "plt_dynamic(x, vy, ty, ax)"
      ],
      "execution_count": 0,
      "outputs": [
        {
          "output_type": "stream",
          "text": [
            "Test score: 0.055547566109968464\n",
            "Test accuracy: 0.9837\n"
          ],
          "name": "stdout"
        },
        {
          "output_type": "display_data",
          "data": {
            "image/png": "[encoded data removed]",
            "text/plain": [
              "<matplotlib.figure.Figure at 0x7f6d32fc4cc0>"
            ]
          },
          "metadata": {
            "tags": []
          }
        }
      ]
    },
    {
      "cell_type": "code",
      "metadata": {
        "id": "DCvSArVM43Sn",
        "colab_type": "code",
        "colab": {}
      },
      "source": [
        ""
      ],
      "execution_count": 0,
      "outputs": []
    },
    {
      "cell_type": "markdown",
      "metadata": {
        "id": "X-AMQZkl44b1",
        "colab_type": "text"
      },
      "source": [
        "# Input(784)+ReLu(658)+ReLu(525)+ReLu(410)+ReLu(350)+ReLu(150)+Output(10"
      ]
    },
    {
      "cell_type": "code",
      "metadata": {
        "id": "gn_Q5ail5I6-",
        "colab_type": "code",
        "outputId": "0bb1d505-276a-4149-f1e0-ad9d9f4bb639",
        "colab": {
          "base_uri": "https://localhost:8080/",
          "height": 672
        }
      },
      "source": [
        "# h1 =>  σ=√(2/(fan_in) = 0.055  => N(0,σ) = N(0,0.055)\n",
        "# h2 =>  σ=√(2/(fan_in) = 0.061  => N(0,σ) = N(0,0.061)\n",
        "# h3 =>  σ=√(2/(fan_in) = 0.069  => N(0,σ) = N(0,0.069)\n",
        "# h4 =>  σ=√(2/(fan_in) = 0.075  => N(0,σ) = N(0,0.075)\n",
        "# h5 =>  σ=√(2/(fan_in) = 0.115  => N(0,σ) = N(0,0.115)\n",
        "\n",
        "\n",
        "\n",
        "model_relu = Sequential()\n",
        "model_relu.add(Dense(658, activation='relu', input_shape=(input_dim,), kernel_initializer=RandomNormal(mean=0.0, stddev=0.055, seed=None)))\n",
        "model_relu.add(BatchNormalization())\n",
        "model_relu.add(Dropout(0.5))\n",
        "\n",
        "model_relu.add(Dense(525, activation='relu', kernel_initializer=RandomNormal(mean=0.0, stddev=0.061, seed=None)) )\n",
        "model_relu.add(BatchNormalization())\n",
        "model_relu.add(Dropout(0.5))\n",
        "\n",
        "model_relu.add(Dense(410, activation='relu', kernel_initializer=RandomNormal(mean=0.0, stddev=0.069, seed=None)) )\n",
        "model_relu.add(BatchNormalization())\n",
        "model_relu.add(Dropout(0.5))\n",
        "\n",
        "model_relu.add(Dense(350, activation='relu', kernel_initializer=RandomNormal(mean=0.0, stddev=0.075, seed=None)) )\n",
        "model_relu.add(BatchNormalization())\n",
        "model_relu.add(Dropout(0.5))\n",
        "\n",
        "model_relu.add(Dense(150, activation='relu', kernel_initializer=RandomNormal(mean=0.0, stddev=0.115, seed=None)) )\n",
        "model_relu.add(BatchNormalization())\n",
        "model_relu.add(Dropout(0.5))\n",
        "\n",
        "model_relu.add(Dense(output_dim, activation='softmax'))\n",
        "\n",
        "model_relu.summary()"
      ],
      "execution_count": 0,
      "outputs": [
        {
          "output_type": "stream",
          "text": [
            "_________________________________________________________________\n",
            "Layer (type)                 Output Shape              Param #   \n",
            "=================================================================\n",
            "dense_11 (Dense)             (None, 658)               516530    \n",
            "_________________________________________________________________\n",
            "batch_normalization_5 (Batch (None, 658)               2632      \n",
            "_________________________________________________________________\n",
            "dropout_4 (Dropout)          (None, 658)               0         \n",
            "_________________________________________________________________\n",
            "dense_12 (Dense)             (None, 525)               345975    \n",
            "_________________________________________________________________\n",
            "batch_normalization_6 (Batch (None, 525)               2100      \n",
            "_________________________________________________________________\n",
            "dropout_5 (Dropout)          (None, 525)               0         \n",
            "_________________________________________________________________\n",
            "dense_13 (Dense)             (None, 410)               215660    \n",
            "_________________________________________________________________\n",
            "batch_normalization_7 (Batch (None, 410)               1640      \n",
            "_________________________________________________________________\n",
            "dropout_6 (Dropout)          (None, 410)               0         \n",
            "_________________________________________________________________\n",
            "dense_14 (Dense)             (None, 350)               143850    \n",
            "_________________________________________________________________\n",
            "batch_normalization_8 (Batch (None, 350)               1400      \n",
            "_________________________________________________________________\n",
            "dropout_7 (Dropout)          (None, 350)               0         \n",
            "_________________________________________________________________\n",
            "dense_15 (Dense)             (None, 150)               52650     \n",
            "_________________________________________________________________\n",
            "batch_normalization_9 (Batch (None, 150)               600       \n",
            "_________________________________________________________________\n",
            "dropout_8 (Dropout)          (None, 150)               0         \n",
            "_________________________________________________________________\n",
            "dense_16 (Dense)             (None, 10)                1510      \n",
            "=================================================================\n",
            "Total params: 1,284,547\n",
            "Trainable params: 1,280,361\n",
            "Non-trainable params: 4,186\n",
            "_________________________________________________________________\n"
          ],
          "name": "stdout"
        }
      ]
    },
    {
      "cell_type": "code",
      "metadata": {
        "id": "1I6azTcD6u0V",
        "colab_type": "code",
        "outputId": "53c1c859-2414-4a1d-86e1-54955d794340",
        "colab": {
          "base_uri": "https://localhost:8080/",
          "height": 706
        }
      },
      "source": [
        "model_relu.compile(optimizer='adam', loss='categorical_crossentropy', metrics=['accuracy'])\n",
        "\n",
        "history = model_relu.fit(X_train, Y_train, batch_size=batch_size, epochs=nb_epoch, verbose=1, validation_data=(X_test, Y_test))"
      ],
      "execution_count": 0,
      "outputs": [
        {
          "output_type": "stream",
          "text": [
            "Train on 60000 samples, validate on 10000 samples\n",
            "Epoch 1/20\n",
            "60000/60000 [==============================] - 25s 412us/step - loss: 0.8993 - acc: 0.7234 - val_loss: 0.2221 - val_acc: 0.9372\n",
            "Epoch 2/20\n",
            "60000/60000 [==============================] - 23s 378us/step - loss: 0.3052 - acc: 0.9110 - val_loss: 0.1521 - val_acc: 0.9568\n",
            "Epoch 3/20\n",
            "60000/60000 [==============================] - 23s 379us/step - loss: 0.2283 - acc: 0.9334 - val_loss: 0.1179 - val_acc: 0.9661\n",
            "Epoch 4/20\n",
            "60000/60000 [==============================] - 23s 377us/step - loss: 0.1902 - acc: 0.9451 - val_loss: 0.1105 - val_acc: 0.9682\n",
            "Epoch 5/20\n",
            "60000/60000 [==============================] - 23s 379us/step - loss: 0.1588 - acc: 0.9544 - val_loss: 0.1029 - val_acc: 0.9716\n",
            "Epoch 6/20\n",
            "60000/60000 [==============================] - 23s 384us/step - loss: 0.1435 - acc: 0.9587 - val_loss: 0.0935 - val_acc: 0.9734\n",
            "Epoch 7/20\n",
            "60000/60000 [==============================] - 23s 381us/step - loss: 0.1310 - acc: 0.9620 - val_loss: 0.0948 - val_acc: 0.9744\n",
            "Epoch 8/20\n",
            "60000/60000 [==============================] - 23s 379us/step - loss: 0.1262 - acc: 0.9639 - val_loss: 0.0867 - val_acc: 0.9752\n",
            "Epoch 9/20\n",
            "60000/60000 [==============================] - 23s 381us/step - loss: 0.1143 - acc: 0.9673 - val_loss: 0.0810 - val_acc: 0.9768\n",
            "Epoch 10/20\n",
            "60000/60000 [==============================] - 23s 378us/step - loss: 0.1075 - acc: 0.9690 - val_loss: 0.0743 - val_acc: 0.9794\n",
            "Epoch 11/20\n",
            "60000/60000 [==============================] - 23s 378us/step - loss: 0.1022 - acc: 0.9705 - val_loss: 0.0751 - val_acc: 0.9795\n",
            "Epoch 12/20\n",
            "60000/60000 [==============================] - 23s 377us/step - loss: 0.0978 - acc: 0.9714 - val_loss: 0.0812 - val_acc: 0.9786\n",
            "Epoch 13/20\n",
            "60000/60000 [==============================] - 23s 378us/step - loss: 0.0929 - acc: 0.9730 - val_loss: 0.0800 - val_acc: 0.9788\n",
            "Epoch 14/20\n",
            "60000/60000 [==============================] - 23s 379us/step - loss: 0.0907 - acc: 0.9749 - val_loss: 0.0667 - val_acc: 0.9823\n",
            "Epoch 15/20\n",
            "60000/60000 [==============================] - 23s 378us/step - loss: 0.0828 - acc: 0.9757 - val_loss: 0.0691 - val_acc: 0.9818\n",
            "Epoch 16/20\n",
            "60000/60000 [==============================] - 23s 378us/step - loss: 0.0807 - acc: 0.9768 - val_loss: 0.0675 - val_acc: 0.9815\n",
            "Epoch 17/20\n",
            "60000/60000 [==============================] - 23s 378us/step - loss: 0.0799 - acc: 0.9769 - val_loss: 0.0643 - val_acc: 0.9826\n",
            "Epoch 18/20\n",
            "60000/60000 [==============================] - 23s 378us/step - loss: 0.0737 - acc: 0.9782 - val_loss: 0.0662 - val_acc: 0.9833\n",
            "Epoch 19/20\n",
            "60000/60000 [==============================] - 23s 378us/step - loss: 0.0722 - acc: 0.9791 - val_loss: 0.0692 - val_acc: 0.9816\n",
            "Epoch 20/20\n",
            "60000/60000 [==============================] - 23s 387us/step - loss: 0.0695 - acc: 0.9800 - val_loss: 0.0625 - val_acc: 0.9846\n"
          ],
          "name": "stdout"
        }
      ]
    },
    {
      "cell_type": "code",
      "metadata": {
        "id": "GHtTsiU16wZO",
        "colab_type": "code",
        "outputId": "5eef683c-7a18-4d88-9a02-4c364cc162c4",
        "colab": {
          "base_uri": "https://localhost:8080/",
          "height": 313
        }
      },
      "source": [
        "score = model_relu.evaluate(X_test, Y_test, verbose=0) \n",
        "print('Test score:', score[0]) \n",
        "print('Test accuracy:', score[1])\n",
        "\n",
        "fig,ax = plt.subplots(1,1)\n",
        "ax.set_xlabel('epoch') ; ax.set_ylabel('Categorical Crossentropy Loss')\n",
        "\n",
        "# list of epoch numbers\n",
        "x = list(range(1,nb_epoch+1))\n",
        "\n",
        "# print(history.history.keys())\n",
        "# dict_keys(['val_loss', 'val_acc', 'loss', 'acc'])\n",
        "# history = model_drop.fit(X_train, Y_train, batch_size=batch_size, epochs=nb_epoch, verbose=1, validation_data=(X_test, Y_test))\n",
        "\n",
        "# we will get val_loss and val_acc only when you pass the paramter validation_data\n",
        "# val_loss : validation loss\n",
        "# val_acc : validation accuracy\n",
        "\n",
        "# loss : training loss\n",
        "# acc : train accuracy\n",
        "# for each key in histrory.histrory we will have a list of length equal to number of epochs\n",
        "\n",
        "vy = history.history['val_loss']\n",
        "ty = history.history['loss']\n",
        "plt_dynamic(x, vy, ty, ax)"
      ],
      "execution_count": 0,
      "outputs": [
        {
          "output_type": "stream",
          "text": [
            "Test score: 0.062496218884619884\n",
            "Test accuracy: 0.9846\n"
          ],
          "name": "stdout"
        },
        {
          "output_type": "display_data",
          "data": {
            "image/png": "[encoded data removed]",
            "text/plain": [
              "<matplotlib.figure.Figure at 0x7f6d30d40b70>"
            ]
          },
          "metadata": {
            "tags": []
          }
        }
      ]
    }
  ]
}