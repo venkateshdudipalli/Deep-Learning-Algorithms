{
  "nbformat": 4,
  "nbformat_minor": 0,
  "metadata": {
    "colab": {
      "name": "CNN_MNIST.ipynb",
      "version": "0.3.2",
      "provenance": [],
      "collapsed_sections": []
    },
    "kernelspec": {
      "name": "python3",
      "display_name": "Python 3"
    }
  },
  "cells": [
    {
      "cell_type": "markdown",
      "metadata": {
        "id": "OIcSz6oi0fqf",
        "colab_type": "text"
      },
      "source": [
        "# CNN_MNIST"
      ]
    },
    {
      "cell_type": "code",
      "metadata": {
        "id": "sbuFhYNI0iQY",
        "colab_type": "code",
        "outputId": "69a4359b-dee6-44db-a489-72cf870f48d6",
        "colab": {
          "base_uri": "https://localhost:8080/",
          "height": 34
        }
      },
      "source": [
        "from __future__ import print_function\n",
        "import keras\n",
        "from keras.datasets import mnist\n",
        "from keras.models import Sequential\n",
        "from keras.layers import Dense, Dropout, Flatten\n",
        "from keras.layers import Conv2D, MaxPooling2D\n",
        "from keras import backend as K\n",
        "from keras.layers import Dropout\n",
        "from keras.layers.normalization import BatchNormalization\n"
      ],
      "execution_count": 0,
      "outputs": [
        {
          "output_type": "stream",
          "text": [
            "Using TensorFlow backend.\n"
          ],
          "name": "stderr"
        }
      ]
    },
    {
      "cell_type": "markdown",
      "metadata": {
        "id": "dd66RUBDcwDn",
        "colab_type": "text"
      },
      "source": [
        "### CNN with 3 layers"
      ]
    },
    {
      "cell_type": "code",
      "metadata": {
        "id": "fT8wj8560zcb",
        "colab_type": "code",
        "outputId": "6d8b4cfb-ac8e-4780-f252-cf46e4249adf",
        "colab": {
          "base_uri": "https://localhost:8080/",
          "height": 961
        }
      },
      "source": [
        "batch_size = 128\n",
        "num_classes = 10\n",
        "epochs = 12\n",
        "\n",
        "# input image dimensions\n",
        "img_rows, img_cols = 28, 28\n",
        "\n",
        "# the data, split between train and test sets\n",
        "(x_train, y_train), (x_test, y_test) = mnist.load_data()\n",
        "\n",
        "if K.image_data_format() == 'channels_first':\n",
        "    x_train = x_train.reshape(x_train.shape[0], 1, img_rows, img_cols)\n",
        "    x_test = x_test.reshape(x_test.shape[0], 1, img_rows, img_cols)\n",
        "    input_shape = (1, img_rows, img_cols)\n",
        "else:\n",
        "    x_train = x_train.reshape(x_train.shape[0], img_rows, img_cols, 1)\n",
        "    x_test = x_test.reshape(x_test.shape[0], img_rows, img_cols, 1)\n",
        "    input_shape = (img_rows, img_cols, 1)\n",
        "\n",
        "x_train = x_train.astype('float32')\n",
        "x_test = x_test.astype('float32')\n",
        "x_train /= 255\n",
        "x_test /= 255\n",
        "print('x_train shape:', x_train.shape)\n",
        "print(x_train.shape[0], 'train samples')\n",
        "print(x_test.shape[0], 'test samples')\n",
        "\n",
        "# convert class vectors to binary class matrices\n",
        "y_train = keras.utils.to_categorical(y_train, num_classes)\n",
        "y_test = keras.utils.to_categorical(y_test, num_classes)\n",
        "\n",
        "model = Sequential()\n",
        "model.add(Conv2D(32, kernel_size=(3, 3),\n",
        "                 activation='relu',\n",
        "                 input_shape=input_shape))\n",
        "model.add(BatchNormalization())\n",
        "model.add(Dropout(0.5))\n",
        "\n",
        "model.add(Conv2D(64,kernel_size=(3,3), activation='relu'))\n",
        "model.add(MaxPooling2D(pool_size=(2, 2)))\n",
        "model.add(BatchNormalization())\n",
        "model.add(Dropout(0.5))\n",
        "\n",
        "model.add(Conv2D(64,kernel_size=(3,3), activation='relu',padding = 'same'))\n",
        "model.add(MaxPooling2D(pool_size=(2, 2)))\n",
        "model.add(BatchNormalization())\n",
        "model.add(Dropout(0.5))\n",
        "\n",
        "\n",
        "model.add(Flatten())\n",
        "model.add(Dense(128, activation='relu'))\n",
        "model.add(Dropout(0.5))\n",
        "model.add(Dense(num_classes, activation='softmax'))\n",
        "\n",
        "model.compile(loss=keras.losses.categorical_crossentropy,\n",
        "              optimizer=keras.optimizers.Adadelta(),\n",
        "              metrics=['accuracy'])\n",
        "\n",
        "history_1 = model.fit(x_train, y_train,batch_size=batch_size,epochs=epochs,verbose=1,validation_data=(x_test, y_test))\n",
        "score = model.evaluate(x_test, y_test, verbose=0)\n",
        "print('Test loss:', score[0])\n",
        "print('Test accuracy:', score[1])"
      ],
      "execution_count": 0,
      "outputs": [
        {
          "output_type": "stream",
          "text": [
            "Downloading data from https://s3.amazonaws.com/img-datasets/mnist.npz\n",
            "11493376/11490434 [==============================] - 0s 0us/step\n"
          ],
          "name": "stdout"
        },
        {
          "output_type": "stream",
          "text": [
            "WARNING: Logging before flag parsing goes to stderr.\n",
            "W0709 04:23:51.060149 140694541633408 deprecation_wrapper.py:119] From /usr/local/lib/python3.6/dist-packages/keras/backend/tensorflow_backend.py:74: The name tf.get_default_graph is deprecated. Please use tf.compat.v1.get_default_graph instead.\n",
            "\n",
            "W0709 04:23:51.095492 140694541633408 deprecation_wrapper.py:119] From /usr/local/lib/python3.6/dist-packages/keras/backend/tensorflow_backend.py:517: The name tf.placeholder is deprecated. Please use tf.compat.v1.placeholder instead.\n",
            "\n",
            "W0709 04:23:51.102290 140694541633408 deprecation_wrapper.py:119] From /usr/local/lib/python3.6/dist-packages/keras/backend/tensorflow_backend.py:4138: The name tf.random_uniform is deprecated. Please use tf.random.uniform instead.\n",
            "\n",
            "W0709 04:23:51.159436 140694541633408 deprecation_wrapper.py:119] From /usr/local/lib/python3.6/dist-packages/keras/backend/tensorflow_backend.py:174: The name tf.get_default_session is deprecated. Please use tf.compat.v1.get_default_session instead.\n",
            "\n",
            "W0709 04:23:51.160586 140694541633408 deprecation_wrapper.py:119] From /usr/local/lib/python3.6/dist-packages/keras/backend/tensorflow_backend.py:181: The name tf.ConfigProto is deprecated. Please use tf.compat.v1.ConfigProto instead.\n",
            "\n"
          ],
          "name": "stderr"
        },
        {
          "output_type": "stream",
          "text": [
            "x_train shape: (60000, 28, 28, 1)\n",
            "60000 train samples\n",
            "10000 test samples\n"
          ],
          "name": "stdout"
        },
        {
          "output_type": "stream",
          "text": [
            "W0709 04:23:51.479045 140694541633408 deprecation_wrapper.py:119] From /usr/local/lib/python3.6/dist-packages/keras/backend/tensorflow_backend.py:1834: The name tf.nn.fused_batch_norm is deprecated. Please use tf.compat.v1.nn.fused_batch_norm instead.\n",
            "\n",
            "W0709 04:23:51.570933 140694541633408 deprecation.py:506] From /usr/local/lib/python3.6/dist-packages/keras/backend/tensorflow_backend.py:3445: calling dropout (from tensorflow.python.ops.nn_ops) with keep_prob is deprecated and will be removed in a future version.\n",
            "Instructions for updating:\n",
            "Please use `rate` instead of `keep_prob`. Rate should be set to `rate = 1 - keep_prob`.\n",
            "W0709 04:23:51.604393 140694541633408 deprecation_wrapper.py:119] From /usr/local/lib/python3.6/dist-packages/keras/backend/tensorflow_backend.py:3976: The name tf.nn.max_pool is deprecated. Please use tf.nn.max_pool2d instead.\n",
            "\n",
            "W0709 04:23:52.012918 140694541633408 deprecation_wrapper.py:119] From /usr/local/lib/python3.6/dist-packages/keras/optimizers.py:790: The name tf.train.Optimizer is deprecated. Please use tf.compat.v1.train.Optimizer instead.\n",
            "\n",
            "W0709 04:23:52.135548 140694541633408 deprecation.py:323] From /usr/local/lib/python3.6/dist-packages/tensorflow/python/ops/math_grad.py:1250: add_dispatch_support.<locals>.wrapper (from tensorflow.python.ops.array_ops) is deprecated and will be removed in a future version.\n",
            "Instructions for updating:\n",
            "Use tf.where in 2.0, which has the same broadcast rule as np.where\n"
          ],
          "name": "stderr"
        },
        {
          "output_type": "stream",
          "text": [
            "Train on 60000 samples, validate on 10000 samples\n",
            "Epoch 1/12\n",
            "60000/60000 [==============================] - 267s 4ms/step - loss: 0.4379 - acc: 0.8657 - val_loss: 0.1613 - val_acc: 0.9548\n",
            "Epoch 2/12\n",
            "60000/60000 [==============================] - 265s 4ms/step - loss: 0.1563 - acc: 0.9551 - val_loss: 0.0860 - val_acc: 0.9748\n",
            "Epoch 3/12\n",
            "60000/60000 [==============================] - 269s 4ms/step - loss: 0.1162 - acc: 0.9663 - val_loss: 0.0529 - val_acc: 0.9848\n",
            "Epoch 4/12\n",
            "60000/60000 [==============================] - 268s 4ms/step - loss: 0.0990 - acc: 0.9716 - val_loss: 0.0435 - val_acc: 0.9864\n",
            "Epoch 5/12\n",
            "60000/60000 [==============================] - 268s 4ms/step - loss: 0.0858 - acc: 0.9754 - val_loss: 0.0442 - val_acc: 0.9867\n",
            "Epoch 6/12\n",
            "60000/60000 [==============================] - 267s 4ms/step - loss: 0.0778 - acc: 0.9776 - val_loss: 0.0351 - val_acc: 0.9895\n",
            "Epoch 7/12\n",
            "60000/60000 [==============================] - 264s 4ms/step - loss: 0.0768 - acc: 0.9783 - val_loss: 0.0315 - val_acc: 0.9908\n",
            "Epoch 8/12\n",
            "60000/60000 [==============================] - 267s 4ms/step - loss: 0.0705 - acc: 0.9802 - val_loss: 0.0341 - val_acc: 0.9908\n",
            "Epoch 9/12\n",
            "60000/60000 [==============================] - 266s 4ms/step - loss: 0.0683 - acc: 0.9805 - val_loss: 0.0283 - val_acc: 0.9910\n",
            "Epoch 10/12\n",
            "60000/60000 [==============================] - 265s 4ms/step - loss: 0.0635 - acc: 0.9819 - val_loss: 0.0303 - val_acc: 0.9907\n",
            "Epoch 11/12\n",
            "60000/60000 [==============================] - 264s 4ms/step - loss: 0.0624 - acc: 0.9823 - val_loss: 0.0330 - val_acc: 0.9901\n",
            "Epoch 12/12\n",
            "60000/60000 [==============================] - 263s 4ms/step - loss: 0.0598 - acc: 0.9832 - val_loss: 0.0269 - val_acc: 0.9922\n",
            "Test loss: 0.02689072408035763\n",
            "Test accuracy: 0.9922\n"
          ],
          "name": "stdout"
        }
      ]
    },
    {
      "cell_type": "code",
      "metadata": {
        "id": "4xnU67HPlRO_",
        "colab_type": "code",
        "colab": {}
      },
      "source": [
        "import matplotlib.pyplot as plt\n",
        "def plt_dynamic(x, vy, ty):\n",
        "    plt.figure(figsize=(10,5))\n",
        "    plt.plot(x, vy, 'b', label=\"Validation Loss\")\n",
        "    plt.plot(x, ty, 'r', label=\"Train Loss\")\n",
        "    plt.xlabel('Epochs') \n",
        "    plt.ylabel('Categorical Crossentropy Loss')\n",
        "    plt.title('\\nCategorical Crossentropy Loss VS Epochs')\n",
        "    plt.legend()\n",
        "    plt.grid()\n",
        "    plt.show()"
      ],
      "execution_count": 0,
      "outputs": []
    },
    {
      "cell_type": "code",
      "metadata": {
        "id": "A9scSr71FOKF",
        "colab_type": "code",
        "outputId": "36372b1a-cb1b-44d4-fcf9-00f9cb0e2a59",
        "colab": {
          "base_uri": "https://localhost:8080/",
          "height": 365
        }
      },
      "source": [
        "# Test and train accuracy of the model\n",
        "model_test = score[1]\n",
        "model_train = max(history_1.history['acc'])\n",
        "\n",
        "# Plotting Train and Test Loss VS no. of epochs\n",
        "# list of epoch numbers\n",
        "x = list(range(1,13))\n",
        "\n",
        "# Validation loss\n",
        "vy = history_1.history['val_loss']\n",
        "# Training loss\n",
        "ty = history_1.history['loss']\n",
        "\n",
        "# Calling the function to draw the plot\n",
        "plt_dynamic(x, vy, ty)"
      ],
      "execution_count": 0,
      "outputs": [
        {
          "output_type": "display_data",
          "data": {
            "image/png": "[encoded data removed]",
            "text/plain": [
              "<Figure size 720x360 with 1 Axes>"
            ]
          },
          "metadata": {
            "tags": []
          }
        }
      ]
    },
    {
      "cell_type": "markdown",
      "metadata": {
        "id": "NcpmJKXNcpVq",
        "colab_type": "text"
      },
      "source": [
        "### CNN with 5 layers"
      ]
    },
    {
      "cell_type": "code",
      "metadata": {
        "id": "zJI0hrB8NtkY",
        "colab_type": "code",
        "outputId": "1b9f3607-8da0-440c-ef21-073037d21740",
        "colab": {
          "base_uri": "https://localhost:8080/",
          "height": 470
        }
      },
      "source": [
        "model=Sequential()\n",
        "\n",
        "model.add(Conv2D(64, kernel_size=(2, 2),activation='relu',input_shape=input_shape))\n",
        "model.add(MaxPooling2D(pool_size=(1, 1)))\n",
        "\n",
        "#Second layer\n",
        "model.add(Conv2D(32,kernel_size=(2,2), activation='relu'))\n",
        "model.add(MaxPooling2D(pool_size=(2, 2)))\n",
        "model.add(Dropout(0.5))\n",
        "\n",
        "\n",
        "#third layer\n",
        "model.add(Conv2D(64,kernel_size=(3,3), activation='relu'))\n",
        "model.add(MaxPooling2D(pool_size=(1, 1)))\n",
        "model.add(BatchNormalization())\n",
        "model.add(Dropout(0.5))\n",
        "\n",
        "\n",
        "\n",
        "#Fourth Layer\n",
        "model.add(Conv2D(64,kernel_size=(2,2), activation='relu'))\n",
        "model.add(MaxPooling2D(pool_size=(2, 2)))\n",
        "model.add(BatchNormalization())\n",
        "model.add(Dropout(0.5))\n",
        "\n",
        "\n",
        "#Fifth Layer\n",
        "model.add(Conv2D(128,kernel_size=(5,5), activation='relu',padding = 'same'))\n",
        "model.add(MaxPooling2D(pool_size=(3, 3)))\n",
        "model.add(BatchNormalization())\n",
        "model.add(Dropout(0.5))\n",
        "\n",
        "model.add(Flatten())\n",
        "model.add(Dense(256, activation='relu'))\n",
        "model.add(Dropout(0.5))\n",
        "model.add(Dense(num_classes, activation='softmax'))\n",
        "\n",
        "model.compile(loss=keras.losses.categorical_crossentropy,\n",
        "              optimizer=keras.optimizers.Adadelta(),\n",
        "              metrics=['accuracy'])\n",
        "\n",
        "history_2 = model.fit(x_train, y_train,batch_size=batch_size,epochs=epochs,verbose=1,validation_data=(x_test, y_test))\n",
        "score = model.evaluate(x_test, y_test, verbose=0)\n",
        "print('Test loss:', score[0])\n",
        "print('Test accuracy:', score[1])"
      ],
      "execution_count": 0,
      "outputs": [
        {
          "output_type": "stream",
          "text": [
            "Train on 60000 samples, validate on 10000 samples\n",
            "Epoch 1/12\n",
            "60000/60000 [==============================] - 262s 4ms/step - loss: 0.6133 - acc: 0.8031 - val_loss: 0.1166 - val_acc: 0.9647\n",
            "Epoch 2/12\n",
            "60000/60000 [==============================] - 260s 4ms/step - loss: 0.1773 - acc: 0.9468 - val_loss: 0.0536 - val_acc: 0.9834\n",
            "Epoch 3/12\n",
            "60000/60000 [==============================] - 262s 4ms/step - loss: 0.1269 - acc: 0.9614 - val_loss: 0.0428 - val_acc: 0.9862\n",
            "Epoch 4/12\n",
            "60000/60000 [==============================] - 262s 4ms/step - loss: 0.1068 - acc: 0.9669 - val_loss: 0.0528 - val_acc: 0.9847\n",
            "Epoch 5/12\n",
            "60000/60000 [==============================] - 263s 4ms/step - loss: 0.0975 - acc: 0.9715 - val_loss: 0.0471 - val_acc: 0.9854\n",
            "Epoch 6/12\n",
            "60000/60000 [==============================] - 265s 4ms/step - loss: 0.0878 - acc: 0.9738 - val_loss: 0.0462 - val_acc: 0.9871\n",
            "Epoch 7/12\n",
            "60000/60000 [==============================] - 265s 4ms/step - loss: 0.0799 - acc: 0.9762 - val_loss: 0.0285 - val_acc: 0.9908\n",
            "Epoch 8/12\n",
            "60000/60000 [==============================] - 265s 4ms/step - loss: 0.0779 - acc: 0.9768 - val_loss: 0.0303 - val_acc: 0.9912\n",
            "Epoch 9/12\n",
            "60000/60000 [==============================] - 264s 4ms/step - loss: 0.0744 - acc: 0.9781 - val_loss: 0.0285 - val_acc: 0.9916\n",
            "Epoch 10/12\n",
            "60000/60000 [==============================] - 264s 4ms/step - loss: 0.0696 - acc: 0.9788 - val_loss: 0.0274 - val_acc: 0.9914\n",
            "Epoch 11/12\n",
            "60000/60000 [==============================] - 265s 4ms/step - loss: 0.0683 - acc: 0.9799 - val_loss: 0.0277 - val_acc: 0.9909\n",
            "Epoch 12/12\n",
            "60000/60000 [==============================] - 267s 4ms/step - loss: 0.0647 - acc: 0.9811 - val_loss: 0.0299 - val_acc: 0.9912\n",
            "Test loss: 0.02990754226117715\n",
            "Test accuracy: 0.9912\n"
          ],
          "name": "stdout"
        }
      ]
    },
    {
      "cell_type": "code",
      "metadata": {
        "id": "QpU3oku5VbQ5",
        "colab_type": "code",
        "outputId": "9d27d913-2d11-4c6a-866d-aa2417e59e51",
        "colab": {
          "base_uri": "https://localhost:8080/",
          "height": 365
        }
      },
      "source": [
        "# Test and train accuracy of the model\n",
        "model_test = score[1]\n",
        "model_train = max(history_1.history['acc'])\n",
        "\n",
        "# Plotting Train and Test Loss VS no. of epochs\n",
        "# list of epoch numbers\n",
        "x = list(range(1,13))\n",
        "\n",
        "# Validation loss\n",
        "vy = history_1.history['val_loss']\n",
        "# Training loss\n",
        "ty = history_2.history['loss']\n",
        "\n",
        "# Calling the function to draw the plot\n",
        "plt_dynamic(x, vy, ty)"
      ],
      "execution_count": 0,
      "outputs": [
        {
          "output_type": "display_data",
          "data": {
            "image/png": "[encoded data removed]",
            "text/plain": [
              "<Figure size 720x360 with 1 Axes>"
            ]
          },
          "metadata": {
            "tags": []
          }
        }
      ]
    },
    {
      "cell_type": "markdown",
      "metadata": {
        "id": "vSqfAxtvc5Dv",
        "colab_type": "text"
      },
      "source": [
        "### CNN with 7 layers"
      ]
    },
    {
      "cell_type": "code",
      "metadata": {
        "id": "WxITQpLddSN_",
        "colab_type": "code",
        "outputId": "c5d1a0f3-7416-4a89-f143-c73f3dfd0400",
        "colab": {
          "base_uri": "https://localhost:8080/",
          "height": 470
        }
      },
      "source": [
        "model=Sequential()\n",
        "\n",
        "\n",
        "#first layer\n",
        "model.add(Conv2D(64, kernel_size=(2, 2),activation='relu',input_shape=input_shape))\n",
        "model.add(MaxPooling2D(pool_size=(1, 1)))\n",
        "\n",
        "#Second layer\n",
        "model.add(Conv2D(64,kernel_size=(2,2), activation='relu'))\n",
        "model.add(MaxPooling2D(pool_size=(2, 2)))\n",
        "model.add(Dropout(0.5))\n",
        "\n",
        "\n",
        "#third layer\n",
        "model.add(Conv2D(32,kernel_size=(3,3), activation='relu'))\n",
        "model.add(MaxPooling2D(pool_size=(1, 1)))\n",
        "model.add(BatchNormalization())\n",
        "model.add(Dropout(0.5))\n",
        "\n",
        "\n",
        "\n",
        "#Fourth Layer\n",
        "model.add(Conv2D(32,kernel_size=(2,2), activation='relu'))\n",
        "model.add(MaxPooling2D(pool_size=(2, 2)))\n",
        "model.add(BatchNormalization())\n",
        "model.add(Dropout(0.5))\n",
        "\n",
        "#Fifth layer\n",
        "model.add(Conv2D(16, kernel_size=(2, 2), activation='relu'))\n",
        "model.add(BatchNormalization(axis=1))\n",
        "model.add(MaxPooling2D(pool_size=(1,1)))\n",
        "\n",
        "#Sixth Layer\n",
        "model.add(Conv2D(16,kernel_size=(3,3), activation='relu'))\n",
        "model.add(MaxPooling2D(pool_size=(1, 1)))\n",
        "model.add(BatchNormalization())\n",
        "model.add(Dropout(0.5))\n",
        "\n",
        "#Seventh Layer\n",
        "model.add(Conv2D(8,kernel_size=(3,3), activation='relu',padding = 'same'))\n",
        "model.add(MaxPooling2D(pool_size=(2, 2)))\n",
        "model.add(BatchNormalization())\n",
        "model.add(Dropout(0.5))\n",
        "\n",
        "model.add(Flatten())\n",
        "model.add(Dense(256, activation='relu'))\n",
        "model.add(Dropout(0.5))\n",
        "model.add(Dense(num_classes, activation='softmax'))\n",
        "\n",
        "model.compile(loss=keras.losses.categorical_crossentropy,\n",
        "              optimizer=keras.optimizers.Adadelta(),\n",
        "              metrics=['accuracy'])\n",
        "\n",
        "history_2 = model.fit(x_train, y_train,batch_size=batch_size,epochs=epochs,verbose=1,validation_data=(x_test, y_test))\n",
        "score = model.evaluate(x_test, y_test, verbose=0)\n",
        "print('Test loss:', score[0])\n",
        "print('Test accuracy:', score[1])"
      ],
      "execution_count": 0,
      "outputs": [
        {
          "output_type": "stream",
          "text": [
            "Train on 60000 samples, validate on 10000 samples\n",
            "Epoch 1/12\n",
            "60000/60000 [==============================] - 227s 4ms/step - loss: 1.7556 - acc: 0.3464 - val_loss: 0.7449 - val_acc: 0.7471\n",
            "Epoch 2/12\n",
            "60000/60000 [==============================] - 224s 4ms/step - loss: 1.0674 - acc: 0.5835 - val_loss: 0.3702 - val_acc: 0.9296\n",
            "Epoch 3/12\n",
            "60000/60000 [==============================] - 225s 4ms/step - loss: 0.8326 - acc: 0.6735 - val_loss: 0.2098 - val_acc: 0.9520\n",
            "Epoch 4/12\n",
            "60000/60000 [==============================] - 224s 4ms/step - loss: 0.7163 - acc: 0.7237 - val_loss: 0.1333 - val_acc: 0.9632\n",
            "Epoch 5/12\n",
            "60000/60000 [==============================] - 225s 4ms/step - loss: 0.6444 - acc: 0.7504 - val_loss: 0.0961 - val_acc: 0.9729\n",
            "Epoch 6/12\n",
            "60000/60000 [==============================] - 224s 4ms/step - loss: 0.5991 - acc: 0.7723 - val_loss: 0.0831 - val_acc: 0.9758\n",
            "Epoch 7/12\n",
            "60000/60000 [==============================] - 225s 4ms/step - loss: 0.5623 - acc: 0.7903 - val_loss: 0.0799 - val_acc: 0.9765\n",
            "Epoch 8/12\n",
            "60000/60000 [==============================] - 225s 4ms/step - loss: 0.5326 - acc: 0.8049 - val_loss: 0.0743 - val_acc: 0.9791\n",
            "Epoch 9/12\n",
            "60000/60000 [==============================] - 224s 4ms/step - loss: 0.5149 - acc: 0.8127 - val_loss: 0.0675 - val_acc: 0.9806\n",
            "Epoch 10/12\n",
            "60000/60000 [==============================] - 222s 4ms/step - loss: 0.4960 - acc: 0.8232 - val_loss: 0.0673 - val_acc: 0.9786\n",
            "Epoch 11/12\n",
            "60000/60000 [==============================] - 221s 4ms/step - loss: 0.4749 - acc: 0.8312 - val_loss: 0.0618 - val_acc: 0.9824\n",
            "Epoch 12/12\n",
            "60000/60000 [==============================] - 220s 4ms/step - loss: 0.4674 - acc: 0.8368 - val_loss: 0.0626 - val_acc: 0.9818\n",
            "Test loss: 0.06263806874752045\n",
            "Test accuracy: 0.9818\n"
          ],
          "name": "stdout"
        }
      ]
    },
    {
      "cell_type": "code",
      "metadata": {
        "id": "7vSCu2RL0KAG",
        "colab_type": "code",
        "outputId": "f821782c-f358-4b41-d64f-1f79eda983b3",
        "colab": {
          "base_uri": "https://localhost:8080/",
          "height": 365
        }
      },
      "source": [
        "# Test and train accuracy of the model\n",
        "model_test = score[1]\n",
        "model_train = max(history_1.history['acc'])\n",
        "\n",
        "# Plotting Train and Test Loss VS no. of epochs\n",
        "# list of epoch numbers\n",
        "x = list(range(1,13))\n",
        "\n",
        "# Validation loss\n",
        "vy = history_2.history['val_loss']\n",
        "# Training loss\n",
        "ty = history_1.history['loss']\n",
        "\n",
        "# Calling the function to draw the plot\n",
        "plt_dynamic(x, vy, ty)"
      ],
      "execution_count": 0,
      "outputs": [
        {
          "output_type": "display_data",
          "data": {
            "image/png": "[encoded data removed]",
            "text/plain": [
              "<Figure size 720x360 with 1 Axes>"
            ]
          },
          "metadata": {
            "tags": []
          }
        }
      ]
    },
    {
      "cell_type": "markdown",
      "metadata": {
        "id": "ATzU4NEVZtxK",
        "colab_type": "text"
      },
      "source": [
        "## Performance Table"
      ]
    },
    {
      "cell_type": "code",
      "metadata": {
        "id": "_4AQo6kJ0US6",
        "colab_type": "code",
        "outputId": "ccf6e893-3e2d-45e0-fdb1-f54f5332b0c7",
        "colab": {
          "base_uri": "https://localhost:8080/",
          "height": 134
        }
      },
      "source": [
        "from prettytable import PrettyTable    \n",
        "x = PrettyTable()\n",
        "x.field_names = [\"No of layers\", \"Accuracy %\"]\n",
        "\n",
        "x.add_row([\"3\",\"99.22\"])\n",
        "x.add_row([\"5\",\"99.12\"])\n",
        "x.add_row([\"7\",\"98.18\"])\n",
        "\n",
        "\n",
        "\n",
        "print(x)"
      ],
      "execution_count": 0,
      "outputs": [
        {
          "output_type": "stream",
          "text": [
            "+--------------+------------+\n",
            "| No of layers | Accuracy % |\n",
            "+--------------+------------+\n",
            "|      3       |   99.22    |\n",
            "|      5       |   99.12    |\n",
            "|      7       |   98.18    |\n",
            "+--------------+------------+\n"
          ],
          "name": "stdout"
        }
      ]
    },
    {
      "cell_type": "markdown",
      "metadata": {
        "id": "GBxtVHXbaH51",
        "colab_type": "text"
      },
      "source": [
        "1. We applied  3 different   convolutional neural network\n",
        "\n",
        "2. We used different kernel_size, max_pooling_size, batch narmalization and  drop out technique\n",
        "\n",
        "3.  we can observe that after increasing number of layers our accuracy decreases."
      ]
    },
    {
      "cell_type": "code",
      "metadata": {
        "id": "OTlnLctrcdCq",
        "colab_type": "code",
        "colab": {}
      },
      "source": [
        ""
      ],
      "execution_count": 0,
      "outputs": []
    }
  ]
}